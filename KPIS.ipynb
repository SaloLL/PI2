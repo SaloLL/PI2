{
 "cells": [
  {
   "cell_type": "markdown",
   "metadata": {},
   "source": [
    "# <h1 align=center> **PROYECTO INDIVIDUAL Nº2**\n",
    "## <h1 align=center> **KPIS**\n",
    "## <h3 align=center> **Salomón Orozco Jaramillo**\n",
    "---"
   ]
  },
  {
   "cell_type": "code",
   "execution_count": 1,
   "metadata": {},
   "outputs": [],
   "source": [
    "# import pandas for data manipulation\n",
    "import pandas as pd\n",
    "# import numpy for numerical operations\n",
    "import numpy as np"
   ]
  },
  {
   "cell_type": "code",
   "execution_count": 9,
   "metadata": {},
   "outputs": [],
   "source": [
    "# Define a function to assign a semester based on the month of a given date\n",
    "def semestre(date):\n",
    "    if date.month <= 6:\n",
    "        return 1  # First semester\n",
    "    else:\n",
    "        return 2  # Second semester"
   ]
  },
  {
   "cell_type": "code",
   "execution_count": 2,
   "metadata": {},
   "outputs": [],
   "source": [
    "# Read the CSV file containing data about homicides and store it in a DataFrame named 'homicidios'\n",
    "homicidios = pd.read_csv(r'datasets/homicidios.csv')\n",
    "# Read the CSV file containing data about injuries and store it in a DataFrame named 'lesiones'\n",
    "lesiones = pd.read_csv(r'datasets/lesiones.csv')\n"
   ]
  },
  {
   "cell_type": "code",
   "execution_count": 3,
   "metadata": {},
   "outputs": [],
   "source": [
    "# Convert the 'fecha' column in the 'homicidios' DataFrame to datetime objects\n",
    "homicidios['fecha'] = pd.to_datetime(homicidios['fecha'])\n",
    "# Convert the 'fecha_y' column in the 'lesiones' DataFrame to datetime objects\n",
    "lesiones['fecha_y'] = pd.to_datetime(lesiones['fecha_y'])\n"
   ]
  },
  {
   "cell_type": "code",
   "execution_count": 5,
   "metadata": {},
   "outputs": [
    {
     "name": "stdout",
     "output_type": "stream",
     "text": [
      "<class 'pandas.core.frame.DataFrame'>\n",
      "Index: 28315 entries, 0 to 27597\n",
      "Data columns (total 16 columns):\n",
      " #   Column                 Non-Null Count  Dtype         \n",
      "---  ------                 --------------  -----         \n",
      " 0   id_hecho               28315 non-null  object        \n",
      " 1   n_victimas             28315 non-null  int64         \n",
      " 2   fecha                  28315 non-null  datetime64[ns]\n",
      " 3   franja_horaria         28307 non-null  float64       \n",
      " 4   direccion_normalizada  7177 non-null   object        \n",
      " 5   comuna                 27201 non-null  object        \n",
      " 6   longitud               26659 non-null  object        \n",
      " 7   latitud                26659 non-null  object        \n",
      " 8   victima                15484 non-null  object        \n",
      " 9   acusado                10374 non-null  object        \n",
      " 10  rol                    706 non-null    object        \n",
      " 11  sexo                   26081 non-null  object        \n",
      " 12  edad                   23791 non-null  float64       \n",
      " 13  gravedad               28315 non-null  object        \n",
      " 14  dia_semana             717 non-null    object        \n",
      " 15  tipo_calle             14719 non-null  object        \n",
      "dtypes: datetime64[ns](1), float64(2), int64(1), object(12)\n",
      "memory usage: 3.7+ MB\n"
     ]
    }
   ],
   "source": [
    "# Rename columns in the 'lesiones' DataFrame\n",
    "lesiones.rename(columns={'franja_hora': 'franja_horaria', 'fecha_y': 'fecha', 'otra_direccion': 'direccion_normalizada'}, inplace=True)\n",
    "# Concatenate the 'homicidios' and modified 'lesiones' DataFrames into a new DataFrame named 'siniestros'\n",
    "siniestros = pd.concat([homicidios, lesiones])\n",
    "# Save the 'siniestros' DataFrame to a CSV file named 'siniestros.csv' without including the index\n",
    "siniestros.to_csv('datasets/siniestros.csv', index=False)\n",
    "# Display information about the 'siniestros' DataFrame\n",
    "siniestros.info()"
   ]
  },
  {
   "cell_type": "code",
   "execution_count": 7,
   "metadata": {},
   "outputs": [],
   "source": [
    "# Replace values in the 'gravedad' column of the 'siniestros' DataFrame\n",
    "siniestros['gravedad'].replace({'GRAVE': 'grave', 'FATAL': 'fatal'}, inplace=True)"
   ]
  },
  {
   "cell_type": "code",
   "execution_count": 10,
   "metadata": {},
   "outputs": [],
   "source": [
    "# Add the 'semestre' column using the previously defined function\n",
    "siniestros['semestre'] = siniestros['fecha'].apply(semestre)\n",
    "# Extract the year from the 'fecha' column and add it as a new column named 'year'\n",
    "siniestros['year'] = siniestros['fecha'].dt.year\n"
   ]
  },
  {
   "cell_type": "code",
   "execution_count": 12,
   "metadata": {},
   "outputs": [],
   "source": [
    "# Group by year, semester, and severity level of the accident, and count the occurrences\n",
    "kpi1 = siniestros.groupby(['year', 'semestre', 'gravedad']).size().reset_index(name='cantidad_homicidios')\n",
    "# Filter rows where severity level is 'fatal'\n",
    "kpi1 = kpi1[kpi1['gravedad'] == 'fatal']\n",
    "# Shift the 'cantidad_homicidios' column by one period to get the count of fatalities in the previous semester\n",
    "kpi1['semestre_anterior'] = kpi1['cantidad_homicidios'].shift(periods=1, fill_value=0)\n",
    "# Calculate the current and previous semester rates per 100,000 inhabitants\n",
    "kpi1['Tasa Actual'] = (kpi1['cantidad_homicidios'] / 3121707) * 100000\n",
    "kpi1['Tasa Anterior'] = (kpi1['semestre_anterior'] / 3121707) * 100000\n",
    "# Calculate the percentage variation between the current and previous semester rates\n",
    "kpi1['variacion%'] = (kpi1['Tasa Actual'] - kpi1['Tasa Anterior']) / kpi1['Tasa Anterior'] * 100"
   ]
  },
  {
   "cell_type": "code",
   "execution_count": 13,
   "metadata": {},
   "outputs": [],
   "source": [
    "# Export csv of the kpi_1\n",
    "kpi1.to_csv('datasets/kpi1.csv', index = False)"
   ]
  },
  {
   "cell_type": "code",
   "execution_count": 16,
   "metadata": {},
   "outputs": [],
   "source": [
    "# Create KPI_2\n",
    "# Group by year, victim, and severity level of the accident, and count the occurrences\n",
    "kpi2 = siniestros.groupby(['year', 'victima', 'gravedad']).size().reset_index(name='cantidad_homicidios')\n",
    "# Filter rows where severity level is 'fatal'\n",
    "kpi2 = kpi2[kpi2['gravedad'] == 'fatal']\n",
    "# Filter rows where victim is 'MOTO'\n",
    "filtro_moto = kpi2[kpi2['victima'] == 'MOTO']\n",
    "kpi2 = filtro_moto.reset_index()\n",
    "kpi2.drop(columns=['index'], inplace=True)  # Remove the extra index column\n",
    "# Shift the 'cantidad_homicidios' column by one period to get the count of fatalities in the previous year\n",
    "kpi2['last_year'] = kpi2['cantidad_homicidios'].shift(periods=1, fill_value=0)\n",
    "# Calculate the current and previous year rates per 100,000 inhabitants\n",
    "kpi2['Tasa Actual'] = (kpi2['cantidad_homicidios'] / 3121707) * 100000\n",
    "kpi2['Tasa Anterior'] = (kpi2['last_year'] / 3121707) * 100000\n",
    "# Calculate the percentage variation between the current and previous year rates per 100,000 inhabitants \n",
    "kpi2['variacion%'] = (kpi2['Tasa Actual'] - kpi2['Tasa Anterior']) / kpi2['Tasa Anterior'] * 100"
   ]
  },
  {
   "cell_type": "code",
   "execution_count": 18,
   "metadata": {},
   "outputs": [],
   "source": [
    "# Export KPI_2\n",
    "kpi2.to_csv('datasets/kpi2.csv', index = False)"
   ]
  }
 ],
 "metadata": {
  "kernelspec": {
   "display_name": "Python 3",
   "language": "python",
   "name": "python3"
  },
  "language_info": {
   "codemirror_mode": {
    "name": "ipython",
    "version": 3
   },
   "file_extension": ".py",
   "mimetype": "text/x-python",
   "name": "python",
   "nbconvert_exporter": "python",
   "pygments_lexer": "ipython3",
   "version": "3.11.4"
  }
 },
 "nbformat": 4,
 "nbformat_minor": 2
}
